{
 "cells": [
  {
   "cell_type": "code",
   "execution_count": 1,
   "metadata": {},
   "outputs": [],
   "source": [
    "import numpy as np\n",
    "import pandas as pd\n",
    "from sklearn.model_selection import train_test_split\n",
    "import matplotlib.pyplot as plt"
   ]
  },
  {
   "cell_type": "markdown",
   "metadata": {},
   "source": [
    "# Loading data"
   ]
  },
  {
   "cell_type": "code",
   "execution_count": 2,
   "metadata": {
    "scrolled": true
   },
   "outputs": [
    {
     "data": {
      "text/html": [
       "<div>\n",
       "<style scoped>\n",
       "    .dataframe tbody tr th:only-of-type {\n",
       "        vertical-align: middle;\n",
       "    }\n",
       "\n",
       "    .dataframe tbody tr th {\n",
       "        vertical-align: top;\n",
       "    }\n",
       "\n",
       "    .dataframe thead th {\n",
       "        text-align: right;\n",
       "    }\n",
       "</style>\n",
       "<table border=\"1\" class=\"dataframe\">\n",
       "  <thead>\n",
       "    <tr style=\"text-align: right;\">\n",
       "      <th></th>\n",
       "      <th>userId</th>\n",
       "      <th>movieId</th>\n",
       "      <th>rating</th>\n",
       "    </tr>\n",
       "  </thead>\n",
       "  <tbody>\n",
       "    <tr>\n",
       "      <th>0</th>\n",
       "      <td>1</td>\n",
       "      <td>1</td>\n",
       "      <td>4.0</td>\n",
       "    </tr>\n",
       "    <tr>\n",
       "      <th>1</th>\n",
       "      <td>1</td>\n",
       "      <td>3</td>\n",
       "      <td>4.0</td>\n",
       "    </tr>\n",
       "    <tr>\n",
       "      <th>2</th>\n",
       "      <td>1</td>\n",
       "      <td>6</td>\n",
       "      <td>4.0</td>\n",
       "    </tr>\n",
       "    <tr>\n",
       "      <th>3</th>\n",
       "      <td>1</td>\n",
       "      <td>47</td>\n",
       "      <td>5.0</td>\n",
       "    </tr>\n",
       "    <tr>\n",
       "      <th>4</th>\n",
       "      <td>1</td>\n",
       "      <td>50</td>\n",
       "      <td>5.0</td>\n",
       "    </tr>\n",
       "  </tbody>\n",
       "</table>\n",
       "</div>"
      ],
      "text/plain": [
       "   userId  movieId  rating\n",
       "0       1        1     4.0\n",
       "1       1        3     4.0\n",
       "2       1        6     4.0\n",
       "3       1       47     5.0\n",
       "4       1       50     5.0"
      ]
     },
     "execution_count": 2,
     "metadata": {},
     "output_type": "execute_result"
    }
   ],
   "source": [
    "data = pd.read_csv( r\"D:\\\\data\\\\ratings.csv\")\n",
    "data = data[['userId', 'movieId', 'rating']]  # to remove timestamp column\n",
    "data.head()"
   ]
  },
  {
   "cell_type": "code",
   "execution_count": 3,
   "metadata": {},
   "outputs": [
    {
     "name": "stdout",
     "output_type": "stream",
     "text": [
      "number of users: 610\n",
      "number of movies: 9724\n"
     ]
    }
   ],
   "source": [
    "user_ids = sorted(set(data['userId']))    #set---> no duplication\n",
    "movie_ids = sorted(set(data['movieId']))\n",
    "n_users = len(user_ids)\n",
    "n_movies = len(movie_ids)\n",
    "\n",
    "print(\"number of users: {}\\nnumber of movies: {}\".format(n_users, n_movies))"
   ]
  },
  {
   "cell_type": "code",
   "execution_count": 4,
   "metadata": {},
   "outputs": [
    {
     "name": "stdout",
     "output_type": "stream",
     "text": [
      "movieId\n",
      "356     329\n",
      "318     317\n",
      "296     307\n",
      "593     279\n",
      "2571    278\n",
      "Name: userId, dtype: int64\n",
      "on average, each movie is rated 10.369806663924312 times\n"
     ]
    }
   ],
   "source": [
    "vector_sizes = data.groupby('movieId')['userId'].nunique().sort_values(ascending=False)\n",
    "print(vector_sizes.head())\n",
    "print('on average, each movie is rated {} times'.format(vector_sizes.mean()))"
   ]
  },
  {
   "cell_type": "markdown",
   "metadata": {},
   "source": [
    "# Mean centering"
   ]
  },
  {
   "cell_type": "code",
   "execution_count": 5,
   "metadata": {},
   "outputs": [],
   "source": [
    "user_group = data.groupby(by='userId')\n",
    "user_means = user_group['rating'].agg(['mean', 'count'])"
   ]
  },
  {
   "cell_type": "code",
   "execution_count": 6,
   "metadata": {
    "scrolled": true
   },
   "outputs": [
    {
     "data": {
      "text/html": [
       "<div>\n",
       "<style scoped>\n",
       "    .dataframe tbody tr th:only-of-type {\n",
       "        vertical-align: middle;\n",
       "    }\n",
       "\n",
       "    .dataframe tbody tr th {\n",
       "        vertical-align: top;\n",
       "    }\n",
       "\n",
       "    .dataframe thead th {\n",
       "        text-align: right;\n",
       "    }\n",
       "</style>\n",
       "<table border=\"1\" class=\"dataframe\">\n",
       "  <thead>\n",
       "    <tr style=\"text-align: right;\">\n",
       "      <th></th>\n",
       "      <th>userId</th>\n",
       "      <th>movieId</th>\n",
       "      <th>rating</th>\n",
       "      <th>meanCenteredRating</th>\n",
       "    </tr>\n",
       "  </thead>\n",
       "  <tbody>\n",
       "    <tr>\n",
       "      <th>0</th>\n",
       "      <td>1</td>\n",
       "      <td>1</td>\n",
       "      <td>4.0</td>\n",
       "      <td>-0.366379</td>\n",
       "    </tr>\n",
       "    <tr>\n",
       "      <th>1</th>\n",
       "      <td>1</td>\n",
       "      <td>3</td>\n",
       "      <td>4.0</td>\n",
       "      <td>-0.366379</td>\n",
       "    </tr>\n",
       "    <tr>\n",
       "      <th>2</th>\n",
       "      <td>1</td>\n",
       "      <td>6</td>\n",
       "      <td>4.0</td>\n",
       "      <td>-0.366379</td>\n",
       "    </tr>\n",
       "    <tr>\n",
       "      <th>3</th>\n",
       "      <td>1</td>\n",
       "      <td>47</td>\n",
       "      <td>5.0</td>\n",
       "      <td>0.633621</td>\n",
       "    </tr>\n",
       "    <tr>\n",
       "      <th>4</th>\n",
       "      <td>1</td>\n",
       "      <td>50</td>\n",
       "      <td>5.0</td>\n",
       "      <td>0.633621</td>\n",
       "    </tr>\n",
       "  </tbody>\n",
       "</table>\n",
       "</div>"
      ],
      "text/plain": [
       "   userId  movieId  rating  meanCenteredRating\n",
       "0       1        1     4.0           -0.366379\n",
       "1       1        3     4.0           -0.366379\n",
       "2       1        6     4.0           -0.366379\n",
       "3       1       47     5.0            0.633621\n",
       "4       1       50     5.0            0.633621"
      ]
     },
     "execution_count": 6,
     "metadata": {},
     "output_type": "execute_result"
    }
   ],
   "source": [
    "mean_centering = lambda ratings: ratings - ratings.mean()\n",
    "data['meanCenteredRating'] = user_group['rating'].transform(mean_centering)\n",
    "data.head()"
   ]
  },
  {
   "cell_type": "code",
   "execution_count": 7,
   "metadata": {
    "scrolled": true
   },
   "outputs": [
    {
     "data": {
      "text/html": [
       "<div>\n",
       "<style scoped>\n",
       "    .dataframe tbody tr th:only-of-type {\n",
       "        vertical-align: middle;\n",
       "    }\n",
       "\n",
       "    .dataframe tbody tr th {\n",
       "        vertical-align: top;\n",
       "    }\n",
       "\n",
       "    .dataframe thead th {\n",
       "        text-align: right;\n",
       "    }\n",
       "</style>\n",
       "<table border=\"1\" class=\"dataframe\">\n",
       "  <thead>\n",
       "    <tr style=\"text-align: right;\">\n",
       "      <th></th>\n",
       "      <th>mean</th>\n",
       "      <th>count</th>\n",
       "    </tr>\n",
       "    <tr>\n",
       "      <th>userId</th>\n",
       "      <th></th>\n",
       "      <th></th>\n",
       "    </tr>\n",
       "  </thead>\n",
       "  <tbody>\n",
       "    <tr>\n",
       "      <th>1</th>\n",
       "      <td>4.366379</td>\n",
       "      <td>232</td>\n",
       "    </tr>\n",
       "    <tr>\n",
       "      <th>2</th>\n",
       "      <td>3.948276</td>\n",
       "      <td>29</td>\n",
       "    </tr>\n",
       "    <tr>\n",
       "      <th>3</th>\n",
       "      <td>2.435897</td>\n",
       "      <td>39</td>\n",
       "    </tr>\n",
       "    <tr>\n",
       "      <th>4</th>\n",
       "      <td>3.555556</td>\n",
       "      <td>216</td>\n",
       "    </tr>\n",
       "    <tr>\n",
       "      <th>5</th>\n",
       "      <td>3.636364</td>\n",
       "      <td>44</td>\n",
       "    </tr>\n",
       "  </tbody>\n",
       "</table>\n",
       "</div>"
      ],
      "text/plain": [
       "            mean  count\n",
       "userId                 \n",
       "1       4.366379    232\n",
       "2       3.948276     29\n",
       "3       2.435897     39\n",
       "4       3.555556    216\n",
       "5       3.636364     44"
      ]
     },
     "execution_count": 7,
     "metadata": {},
     "output_type": "execute_result"
    }
   ],
   "source": [
    "user_means.head()"
   ]
  },
  {
   "cell_type": "markdown",
   "metadata": {},
   "source": [
    "# Splitting data"
   ]
  },
  {
   "cell_type": "code",
   "execution_count": 8,
   "metadata": {
    "scrolled": true
   },
   "outputs": [],
   "source": [
    "data_train, data_test = train_test_split(data, test_size=0.05, random_state=42)"
   ]
  },
  {
   "cell_type": "code",
   "execution_count": 9,
   "metadata": {},
   "outputs": [],
   "source": [
    "# build userId to row mapping dictionary\n",
    "user2row = dict()\n",
    "row2user = dict()\n",
    "for i, user_id in enumerate(user_ids):\n",
    "    user2row[user_id] = i\n",
    "    row2user[i] = user_id\n",
    "\n",
    "# build movieId to column mapping dictionary\n",
    "movie2col = dict()\n",
    "col2movie = dict()\n",
    "for i, movie_id in enumerate(movie_ids):\n",
    "    movie2col[movie_id] = i\n",
    "    col2movie[i] = movie_id"
   ]
  },
  {
   "cell_type": "code",
   "execution_count": 10,
   "metadata": {},
   "outputs": [],
   "source": [
    "# turn ratings data in table format into a user-item rating matrix\n",
    "def data_to_matrix(data):\n",
    "    mat = np.full((n_users, n_movies), np.nan, dtype=np.float32)\n",
    "    for idx, row in data.iterrows():\n",
    "        mat[user2row[row['userId']], movie2col[row['movieId']]] = row['meanCenteredRating']\n",
    "    return mat\n",
    "\n",
    "train_ratings = data_to_matrix(data_train)"
   ]
  },
  {
   "cell_type": "markdown",
   "metadata": {},
   "source": [
    "# Compute similarity matrix"
   ]
  },
  {
   "cell_type": "code",
   "execution_count": 34,
   "metadata": {},
   "outputs": [
    {
     "data": {
      "text/plain": [
       "(9724, 9724)"
      ]
     },
     "execution_count": 34,
     "metadata": {},
     "output_type": "execute_result"
    }
   ],
   "source": [
    "# create a blank similarity matrix containing zeros\n",
    "sim_matrix = np.empty((n_movies, n_movies), dtype=np.float32)\n",
    "sim_matrix.shape"
   ]
  },
  {
   "cell_type": "code",
   "execution_count": 35,
   "metadata": {},
   "outputs": [],
   "source": [
    "# remove co-elements from 2 vectors if at least one of them is NaN\n",
    "def remove_nans(a, b):\n",
    "    a = a[..., np.newaxis]\n",
    "    b = b[..., np.newaxis]\n",
    "    concat = np.concatenate([a, b], axis=1)\n",
    "    nonan = concat[~np.isnan(concat).any(axis=1)]\n",
    "    return nonan[:, 0], nonan[:, 1]"
   ]
  },
  {
   "cell_type": "code",
   "execution_count": 36,
   "metadata": {},
   "outputs": [],
   "source": [
    "# calculate a similarity value given 2 vectors\n",
    "def calsim(item1, item2, min_co_elements=1):\n",
    "    item1, item2 = remove_nans(item1, item2)\n",
    "    if item1.size == 0 or item1.size < min_co_elements: # item1 and item2 must have the same size at this point\n",
    "        return np.nan\n",
    "    dot = item1.dot(item2)\n",
    "    norm1 = np.linalg.norm(item1)\n",
    "    norm2 = np.linalg.norm(item2)\n",
    "    return dot / (norm1 * norm2)"
   ]
  },
  {
   "cell_type": "code",
   "execution_count": 37,
   "metadata": {},
   "outputs": [],
   "source": [
    "# either load or run the next cell to compute similarity matrix\n",
    "sim_matrix = np.load('sim_matrix.npy')"
   ]
  },
  {
   "cell_type": "code",
   "execution_count": 38,
   "metadata": {},
   "outputs": [],
   "source": [
    "# calculate all the similarities\n",
    "# for item1 in range(n_movies):\n",
    "#     item1vector = train_ratings[:, item1]\n",
    "#     for item2 in range(item1, n_movies):\n",
    "#         item2vector = train_ratings[:, item2]\n",
    "#         sim = calsim(item1vector, item2vector, min_co_elements=2)\n",
    "#         sim_matrix[item1, item2] = sim\n",
    "#         sim_matrix[item2, item1] = sim\n",
    "#     if (item1+1) % 50 == 0 or item1+1 == n_movies:\n",
    "#         print(\"Progress: {}/{} ({:.2f} %) items calculated\".format(item1+1, n_movies, (item1+1)*100/n_movies))"
   ]
  },
  {
   "cell_type": "code",
   "execution_count": 39,
   "metadata": {},
   "outputs": [],
   "source": [
    "# this sim matrix takes a lot of time to compute,\n",
    "# so saving it to the disk will help saving time in the future\n",
    "np.save('sim_matrix', sim_matrix)"
   ]
  },
  {
   "cell_type": "code",
   "execution_count": 40,
   "metadata": {},
   "outputs": [
    {
     "name": "stdout",
     "output_type": "stream",
     "text": [
      "fractions of similarity matrix that are NaN: 0.03304207225977497\n"
     ]
    }
   ],
   "source": [
    "print('fractions of similarity matrix that are NaN:', np.isnan(sim_matrix).mean())"
   ]
  },
  {
   "cell_type": "markdown",
   "metadata": {},
   "source": [
    "# Recommendation"
   ]
  },
  {
   "cell_type": "code",
   "execution_count": 41,
   "metadata": {},
   "outputs": [],
   "source": [
    "# define a predict function which receives row and column in the ratings matrix\n",
    "def predict(ratings, user_item, sim_threshold, debug=True):\n",
    "    desired_user, desired_item = user_item\n",
    "    rating_sum = 0.\n",
    "    total_sim = 0.\n",
    "    for item in range(ratings.shape[1]):\n",
    "        s = sim_matrix[item, desired_item]\n",
    "        rating = ratings[desired_user, item]\n",
    "        if np.isnan(s) or s < sim_threshold or item == desired_item or np.isnan(rating):\n",
    "            continue\n",
    "        rating_sum += s * rating\n",
    "        total_sim += s\n",
    "        if debug:\n",
    "            print('sim and rating of item {}:'.format(item), s, rating)\n",
    "    return rating_sum / total_sim if total_sim else np.nan"
   ]
  },
  {
   "cell_type": "code",
   "execution_count": 42,
   "metadata": {},
   "outputs": [
    {
     "name": "stdout",
     "output_type": "stream",
     "text": [
      "sim and rating of item 130: 0.15915701 0.6336207\n",
      "sim and rating of item 136: 0.00030422444 0.6336207\n",
      "sim and rating of item 201: 0.06322966 -0.36637932\n",
      "sim and rating of item 291: 0.012006057 0.6336207\n",
      "sim and rating of item 320: 0.07370741 0.6336207\n",
      "sim and rating of item 325: 0.026950352 -0.36637932\n",
      "sim and rating of item 367: 0.051242784 -1.3663793\n",
      "sim and rating of item 436: 0.057251804 -1.3663793\n",
      "sim and rating of item 484: 0.043667253 -0.36637932\n",
      "sim and rating of item 508: 0.0005498808 -0.36637932\n",
      "sim and rating of item 546: 0.0958714 -1.3663793\n",
      "sim and rating of item 559: 0.109139256 -1.3663793\n",
      "sim and rating of item 594: 0.0714052 -1.3663793\n",
      "sim and rating of item 615: 0.020978423 -1.3663793\n",
      "sim and rating of item 632: 0.013212537 -0.36637932\n",
      "sim and rating of item 701: 0.00033464318 0.6336207\n",
      "sim and rating of item 720: 0.04851188 0.6336207\n",
      "sim and rating of item 767: 0.08294536 -1.3663793\n",
      "sim and rating of item 781: 0.0360465 0.6336207\n",
      "sim and rating of item 786: 0.18401113 0.6336207\n",
      "sim and rating of item 787: 0.029856374 -1.3663793\n",
      "sim and rating of item 797: 0.20371239 -0.36637932\n",
      "sim and rating of item 830: 0.11300749 0.6336207\n",
      "sim and rating of item 920: 0.03952862 0.6336207\n",
      "sim and rating of item 926: 0.06324652 0.6336207\n",
      "sim and rating of item 995: 0.015634844 0.6336207\n",
      "sim and rating of item 1035: 0.013586112 -0.36637932\n",
      "sim and rating of item 1059: 0.014140435 -1.3663793\n",
      "sim and rating of item 1109: 0.10153198 -1.3663793\n",
      "sim and rating of item 1125: 0.0 -0.36637932\n",
      "sim and rating of item 1170: 0.07652194 -0.36637932\n",
      "sim and rating of item 1180: 0.04263803 0.6336207\n",
      "sim and rating of item 1182: 0.05167527 -1.3663793\n",
      "sim and rating of item 1219: 0.0065669157 -0.36637932\n",
      "sim and rating of item 1223: 0.00039346222 0.6336207\n",
      "sim and rating of item 1234: 0.13998678 -1.3663793\n",
      "sim and rating of item 1260: 0.015598039 -1.3663793\n",
      "sim and rating of item 1325: 0.0 -0.36637932\n",
      "sim and rating of item 1331: 0.064786784 0.6336207\n",
      "sim and rating of item 1332: 0.047480907 -0.36637932\n",
      "sim and rating of item 1400: 0.11486714 -0.36637932\n",
      "sim and rating of item 1486: 0.030089386 -0.36637932\n",
      "sim and rating of item 1492: 0.12305304 0.6336207\n",
      "sim and rating of item 1516: 0.022522982 0.6336207\n",
      "sim and rating of item 1521: 0.062460665 -0.36637932\n",
      "sim and rating of item 1525: 0.018079925 0.6336207\n",
      "sim and rating of item 1555: 0.041027624 -1.3663793\n",
      "sim and rating of item 1556: 0.010354383 0.6336207\n",
      "sim and rating of item 1558: 0.0077776858 -0.36637932\n",
      "sim and rating of item 1561: 0.047707442 -0.36637932\n",
      "sim and rating of item 1566: 0.04794996 -0.36637932\n",
      "sim and rating of item 1576: 0.038423046 0.6336207\n",
      "sim and rating of item 1594: 0.01582811 0.6336207\n",
      "sim and rating of item 1598: 0.04389489 0.6336207\n",
      "sim and rating of item 1600: 0.032534614 -0.36637932\n",
      "sim and rating of item 1673: 0.099121846 -2.3663793\n",
      "sim and rating of item 1690: 0.06348466 -0.36637932\n",
      "sim and rating of item 1742: 0.1508173 -2.3663793\n",
      "sim and rating of item 1787: 0.05686904 0.6336207\n",
      "sim and rating of item 1789: 0.0 -2.3663793\n",
      "sim and rating of item 1805: 0.019543115 -0.36637932\n",
      "sim and rating of item 1841: 0.047241516 -0.36637932\n",
      "sim and rating of item 1857: 0.064816155 0.6336207\n",
      "sim and rating of item 1865: 0.009903382 -0.36637932\n",
      "sim and rating of item 1873: 0.0 -0.36637932\n",
      "sim and rating of item 1903: 0.009148673 -1.3663793\n",
      "sim and rating of item 1970: 0.010807966 -0.36637932\n",
      "sim and rating of item 1971: 0.022689214 -2.3663793\n",
      "sim and rating of item 1985: 0.0034811473 -0.36637932\n",
      "sim and rating of item 1993: 0.0 0.6336207\n",
      "sim and rating of item 2125: 0.05189949 -0.36637932\n",
      "sim and rating of item 2217: 0.0036755772 0.6336207\n",
      "sim and rating of item 2246: 0.011714777 -0.36637932\n",
      "sim and rating of item 2252: 0.0035018579 0.6336207\n",
      "sim and rating of item 2254: 0.004189464 0.6336207\n",
      "sim and rating of item 2308: 0.0 -0.36637932\n",
      "sim and rating of item 2429: 0.13084804 -1.3663793\n",
      "sim and rating of item 2432: 0.19114487 -1.3663793\n",
      "sim and rating of item 2438: 0.046961922 0.6336207\n",
      "sim and rating of item 2458: 0.05927563 0.6336207\n",
      "sim and rating of item 2569: 0.016186861 -0.36637932\n",
      "sim and rating of item 2576: 0.010828159 0.6336207\n",
      "sim and rating of item 2692: 0.058769554 -0.36637932\n",
      "sim and rating of item 2784: 0.042750746 0.6336207\n",
      "sim and rating of item 2798: 0.0 -0.36637932\n",
      "sim and rating of item 2843: 0.0059908703 -0.36637932\n",
      "sim and rating of item 2987: 0.23178028 -0.36637932\n",
      "sim and rating of item 3668: 0.038620323 0.6336207\n"
     ]
    },
    {
     "data": {
      "text/plain": [
       "(-0.43642004626075936, nan)"
      ]
     },
     "execution_count": 42,
     "metadata": {},
     "output_type": "execute_result"
    }
   ],
   "source": [
    "predict(train_ratings, (0, 30), sim_threshold = 0.), train_ratings[0, 30]"
   ]
  },
  {
   "cell_type": "code",
   "execution_count": 43,
   "metadata": {},
   "outputs": [
    {
     "data": {
      "text/html": [
       "<div>\n",
       "<style scoped>\n",
       "    .dataframe tbody tr th:only-of-type {\n",
       "        vertical-align: middle;\n",
       "    }\n",
       "\n",
       "    .dataframe tbody tr th {\n",
       "        vertical-align: top;\n",
       "    }\n",
       "\n",
       "    .dataframe thead th {\n",
       "        text-align: right;\n",
       "    }\n",
       "</style>\n",
       "<table border=\"1\" class=\"dataframe\">\n",
       "  <thead>\n",
       "    <tr style=\"text-align: right;\">\n",
       "      <th></th>\n",
       "      <th>movieId</th>\n",
       "      <th>title</th>\n",
       "      <th>genres</th>\n",
       "    </tr>\n",
       "  </thead>\n",
       "  <tbody>\n",
       "    <tr>\n",
       "      <th>0</th>\n",
       "      <td>1</td>\n",
       "      <td>Toy Story (1995)</td>\n",
       "      <td>Adventure|Animation|Children|Comedy|Fantasy</td>\n",
       "    </tr>\n",
       "    <tr>\n",
       "      <th>1</th>\n",
       "      <td>2</td>\n",
       "      <td>Jumanji (1995)</td>\n",
       "      <td>Adventure|Children|Fantasy</td>\n",
       "    </tr>\n",
       "    <tr>\n",
       "      <th>2</th>\n",
       "      <td>3</td>\n",
       "      <td>Grumpier Old Men (1995)</td>\n",
       "      <td>Comedy|Romance</td>\n",
       "    </tr>\n",
       "    <tr>\n",
       "      <th>3</th>\n",
       "      <td>4</td>\n",
       "      <td>Waiting to Exhale (1995)</td>\n",
       "      <td>Comedy|Drama|Romance</td>\n",
       "    </tr>\n",
       "    <tr>\n",
       "      <th>4</th>\n",
       "      <td>5</td>\n",
       "      <td>Father of the Bride Part II (1995)</td>\n",
       "      <td>Comedy</td>\n",
       "    </tr>\n",
       "  </tbody>\n",
       "</table>\n",
       "</div>"
      ],
      "text/plain": [
       "   movieId                               title  \\\n",
       "0        1                    Toy Story (1995)   \n",
       "1        2                      Jumanji (1995)   \n",
       "2        3             Grumpier Old Men (1995)   \n",
       "3        4            Waiting to Exhale (1995)   \n",
       "4        5  Father of the Bride Part II (1995)   \n",
       "\n",
       "                                        genres  \n",
       "0  Adventure|Animation|Children|Comedy|Fantasy  \n",
       "1                   Adventure|Children|Fantasy  \n",
       "2                               Comedy|Romance  \n",
       "3                         Comedy|Drama|Romance  \n",
       "4                                       Comedy  "
      ]
     },
     "execution_count": 43,
     "metadata": {},
     "output_type": "execute_result"
    }
   ],
   "source": [
    "movie_df =pd.read_csv( r\"D:\\\\data\\\\movies.csv\")\n",
    "movie_df.head()"
   ]
  },
  {
   "cell_type": "code",
   "execution_count": 44,
   "metadata": {},
   "outputs": [],
   "source": [
    "def recommend(ratings, desired_user, sim_threshold):\n",
    "    scores = []\n",
    "    for item in range(ratings.shape[1]):\n",
    "        score = ratings[desired_user, item]\n",
    "        if np.isnan(score):\n",
    "            score = predict(ratings, (desired_user, item), sim_threshold, debug=False)\n",
    "        else:\n",
    "            score = -np.infty # we don't want to recommend movies that user have rated\n",
    "        scores.append(score)\n",
    "    scores = np.array(scores)\n",
    "    scores_argsort = np.argsort(scores)[::-1]\n",
    "    scores_sort = np.sort(scores)[::-1]\n",
    "    \n",
    "    no_of_nan = np.count_nonzero(np.isnan(scores))\n",
    "    scores_argsort = np.roll(scores_argsort, -no_of_nan)\n",
    "    scores_sort = np.roll(scores_sort, -no_of_nan)\n",
    "    return scores_argsort, scores_sort\n",
    "\n",
    "def recommend_msg(user_row, scores_argsort, scores_sort, how_many=10):\n",
    "    m = user_means.loc[row2user[user_row]]['mean']\n",
    "    print('User mean rating:', m)\n",
    "    msg = pd.DataFrame(columns=['movieId', 'title', 'genres', 'rating'])\n",
    "    for i in range(how_many):\n",
    "        col = scores_argsort[i]\n",
    "        movie_id = col2movie[col]\n",
    "        movie = movie_df.loc[movie_df['movieId'] == movie_id].iloc[0]\n",
    "        msg.loc[i+1] = [movie_id, movie['title'], movie['genres'], scores_sort[i] + m]\n",
    "    msg['movieId'] = msg['movieId'].astype(np.int32)\n",
    "    return msg"
   ]
  },
  {
   "cell_type": "code",
   "execution_count": null,
   "metadata": {},
   "outputs": [],
   "source": [
    "scores_argsort, scores_sort = recommend(train_ratings, 0, 0.)"
   ]
  },
  {
   "cell_type": "code",
   "execution_count": null,
   "metadata": {},
   "outputs": [],
   "source": [
    "scores_argsort, scores_sort"
   ]
  },
  {
   "cell_type": "code",
   "execution_count": null,
   "metadata": {},
   "outputs": [],
   "source": [
    "recommend_msg(20, scores_argsort, scores_sort, how_many=10)"
   ]
  },
  {
   "cell_type": "code",
   "execution_count": null,
   "metadata": {},
   "outputs": [],
   "source": []
  }
 ],
 "metadata": {
  "anaconda-cloud": {},
  "kernelspec": {
   "display_name": "Python 3 (ipykernel)",
   "language": "python",
   "name": "python3"
  },
  "language_info": {
   "codemirror_mode": {
    "name": "ipython",
    "version": 3
   },
   "file_extension": ".py",
   "mimetype": "text/x-python",
   "name": "python",
   "nbconvert_exporter": "python",
   "pygments_lexer": "ipython3",
   "version": "3.9.13"
  }
 },
 "nbformat": 4,
 "nbformat_minor": 1
}
