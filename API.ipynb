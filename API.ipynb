{
 "cells": [
  {
   "cell_type": "code",
   "execution_count": 1,
   "metadata": {},
   "outputs": [
    {
     "name": "stdout",
     "output_type": "stream",
     "text": [
      "Requirement already satisfied: Flask in c:\\users\\zahra\\appdata\\local\\programs\\python\\python312\\lib\\site-packages (3.0.3)\n",
      "Requirement already satisfied: Werkzeug>=3.0.0 in c:\\users\\zahra\\appdata\\local\\programs\\python\\python312\\lib\\site-packages (from Flask) (3.0.4)\n",
      "Requirement already satisfied: Jinja2>=3.1.2 in c:\\users\\zahra\\appdata\\local\\programs\\python\\python312\\lib\\site-packages (from Flask) (3.1.4)\n",
      "Requirement already satisfied: itsdangerous>=2.1.2 in c:\\users\\zahra\\appdata\\local\\programs\\python\\python312\\lib\\site-packages (from Flask) (2.2.0)\n",
      "Requirement already satisfied: click>=8.1.3 in c:\\users\\zahra\\appdata\\local\\programs\\python\\python312\\lib\\site-packages (from Flask) (8.1.7)\n",
      "Requirement already satisfied: blinker>=1.6.2 in c:\\users\\zahra\\appdata\\local\\programs\\python\\python312\\lib\\site-packages (from Flask) (1.8.2)\n",
      "Requirement already satisfied: colorama in c:\\users\\zahra\\appdata\\roaming\\python\\python312\\site-packages (from click>=8.1.3->Flask) (0.4.6)\n",
      "Requirement already satisfied: MarkupSafe>=2.0 in c:\\users\\zahra\\appdata\\local\\programs\\python\\python312\\lib\\site-packages (from Jinja2>=3.1.2->Flask) (2.1.5)\n"
     ]
    }
   ],
   "source": [
    "! pip install Flask\n"
   ]
  },
  {
   "cell_type": "code",
   "execution_count": 8,
   "metadata": {},
   "outputs": [
    {
     "name": "stdout",
     "output_type": "stream",
     "text": [
      " * Serving Flask app '__main__'\n",
      " * Debug mode: on\n"
     ]
    },
    {
     "name": "stderr",
     "output_type": "stream",
     "text": [
      "WARNING: This is a development server. Do not use it in a production deployment. Use a production WSGI server instead.\n",
      " * Running on http://127.0.0.1:5000\n",
      "Press CTRL+C to quit\n"
     ]
    }
   ],
   "source": [
    "from flask import Flask, request, jsonify\n",
    "import pandas as pd\n",
    "from sklearn.metrics.pairwise import cosine_similarity\n",
    "from scipy.sparse import csr_matrix\n",
    "\n",
    "# Load data and prepare user-item matrix (as done previously)\n",
    "ratings = pd.read_csv(\"C:\\\\Users\\\\zahra\\\\Downloads\\\\Telegram Desktop\\\\ratings.csv\")\n",
    "movies = pd.read_csv(\"C:\\\\Users\\\\zahra\\\\Downloads\\\\Telegram Desktop\\\\movies.csv\")\n",
    "\n",
    "merged_data = pd.merge(ratings, movies, on='movieId')\n",
    "user_item_matrix = merged_data.pivot_table(index='userId', columns='title', values='rating').fillna(0)\n",
    "# Convert to sparse matrix for better performance\n",
    "user_item_matrix_sparse = csr_matrix(user_item_matrix.values)\n",
    "\n",
    "# Compute user similarity\n",
    "#Compute cosine similarity between users\n",
    "user_similarity = cosine_similarity(user_item_matrix_sparse)\n",
    "user_similarity_df = pd.DataFrame(user_similarity, index=user_item_matrix.index, columns=user_item_matrix.index)\n",
    "\n",
    "# Flask application\n",
    "app = Flask(__name__)\n",
    "\n",
    "# Recommendation function (from previous code)\n",
    "def recommend_movies(user_id, user_item_matrix, user_similarity_df, num_recommendations=5, top_n_similar_users=100):\n",
    "    similar_users = user_similarity_df[user_id].sort_values(ascending=False).head(top_n_similar_users).index\n",
    "    similar_user_ratings = user_item_matrix.loc[similar_users]\n",
    "    weighted_ratings = similar_user_ratings.mean().sort_values(ascending=False)\n",
    "    already_rated = user_item_matrix.loc[user_id]\n",
    "    recommendations = weighted_ratings[~already_rated.index.isin(already_rated[already_rated > 0].index)]\n",
    "    recommendations_df = pd.DataFrame(recommendations).reset_index()\n",
    "    recommendations_df.columns = ['Movie Title', 'Predicted Rating']\n",
    "    return recommendations_df.head(num_recommendations)\n",
    "\n",
    "# API route to get recommendations\n",
    "@app.route('/recommend', methods=['GET'])\n",
    "def recommend():\n",
    "    user_id = int(request.args.get('user_id'))\n",
    "    num_recommendations = int(request.args.get('num_recommendations', 5))\n",
    "    \n",
    "    # Call the recommendation function\n",
    "    recommendations = recommend_movies(user_id=user_id, user_item_matrix=user_item_matrix, user_similarity_df=user_similarity_df, num_recommendations=num_recommendations)\n",
    "    \n",
    "    # Convert the recommendations to JSON format\n",
    "    return recommendations.to_json(orient='records')\n",
    "\n",
    "# Run the Flask app\n",
    "if __name__ == \"__main__\":\n",
    "    app.run(debug=True, use_reloader=False)"
   ]
  },
  {
   "cell_type": "code",
   "execution_count": null,
   "metadata": {},
   "outputs": [
    {
     "name": "stdout",
     "output_type": "stream",
     "text": [
      " * Serving Flask app '__main__'\n",
      " * Debug mode: on\n"
     ]
    },
    {
     "name": "stderr",
     "output_type": "stream",
     "text": [
      "WARNING: This is a development server. Do not use it in a production deployment. Use a production WSGI server instead.\n",
      " * Running on http://127.0.0.1:5000\n",
      "Press CTRL+C to quit\n",
      "127.0.0.1 - - [09/Sep/2024 21:01:11] \"GET / HTTP/1.1\" 404 -\n"
     ]
    }
   ],
   "source": [
    "from flask import Flask, request, jsonify\n",
    "import pandas as pd\n",
    "from sklearn.metrics.pairwise import cosine_similarity\n",
    "from scipy.sparse import csr_matrix\n",
    "\n",
    "# Load data and prepare user-item matrix (as done previously)\n",
    "ratings = pd.read_csv(\"C:\\\\Users\\\\zahra\\\\Downloads\\\\Telegram Desktop\\\\ratings.csv\")\n",
    "movies = pd.read_csv(\"C:\\\\Users\\\\zahra\\\\Downloads\\\\Telegram Desktop\\\\movies.csv\")\n",
    "\n",
    "merged_data = pd.merge(ratings, movies, on='movieId')\n",
    "user_item_matrix = merged_data.pivot_table(index='userId', columns='title', values='rating').fillna(0)\n",
    "# Convert to sparse matrix for better performance\n",
    "user_item_matrix_sparse = csr_matrix(user_item_matrix.values)\n",
    "\n",
    "# Compute user similarity\n",
    "#Compute cosine similarity between users\n",
    "user_similarity = cosine_similarity(user_item_matrix_sparse)\n",
    "user_similarity_df = pd.DataFrame(user_similarity, index=user_item_matrix.index, columns=user_item_matrix.index)\n",
    "\n",
    "# Flask application\n",
    "app = Flask(__name__)\n",
    "\n",
    "# Recommendation function (from previous code)\n",
    "def recommend_movies(user_id, user_item_matrix, user_similarity_df, num_recommendations=5, top_n_similar_users=100):\n",
    "    similar_users = user_similarity_df[user_id].sort_values(ascending=False).head(top_n_similar_users).index\n",
    "    similar_user_ratings = user_item_matrix.loc[similar_users]\n",
    "    weighted_ratings = similar_user_ratings.mean().sort_values(ascending=False)\n",
    "    already_rated = user_item_matrix.loc[user_id]\n",
    "    recommendations = weighted_ratings[~already_rated.index.isin(already_rated[already_rated > 0].index)]\n",
    "    recommendations_df = pd.DataFrame(recommendations).reset_index()\n",
    "    recommendations_df.columns = ['Movie Title', 'Predicted Rating']\n",
    "    return recommendations_df.head(num_recommendations)\n",
    "\n",
    "# API route to get recommendations\n",
    "@app.route('/recommend', methods=['GET'])\n",
    "def recommend():\n",
    "    user_id = int(request.args.get('user_id'))\n",
    "    num_recommendations = int(request.args.get('num_recommendations', 5))\n",
    "    \n",
    "    # Call the recommendation function\n",
    "    recommendations = recommend_movies(user_id=user_id, user_item_matrix=user_item_matrix, user_similarity_df=user_similarity_df, num_recommendations=num_recommendations)\n",
    "    \n",
    "    # Convert the recommendations to JSON format\n",
    "    return recommendations.to_json(orient='records')\n",
    "\n",
    "# Run the Flask app\n",
    "if __name__ == \"__main__\":\n",
    "    app.run(debug=True, use_reloader=False)"
   ]
  }
 ],
 "metadata": {
  "kernelspec": {
   "display_name": "Python 3",
   "language": "python",
   "name": "python3"
  },
  "language_info": {
   "codemirror_mode": {
    "name": "ipython",
    "version": 3
   },
   "file_extension": ".py",
   "mimetype": "text/x-python",
   "name": "python",
   "nbconvert_exporter": "python",
   "pygments_lexer": "ipython3",
   "version": "3.12.4"
  }
 },
 "nbformat": 4,
 "nbformat_minor": 2
}
