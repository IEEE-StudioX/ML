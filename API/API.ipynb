{
 "cells": [
  {
   "cell_type": "code",
   "execution_count": 1,
   "metadata": {},
   "outputs": [
    {
     "name": "stdout",
     "output_type": "stream",
     "text": [
      " * Serving Flask app '__main__'\n",
      " * Debug mode: on\n"
     ]
    },
    {
     "name": "stderr",
     "output_type": "stream",
     "text": [
      "WARNING: This is a development server. Do not use it in a production deployment. Use a production WSGI server instead.\n",
      " * Running on http://127.0.0.1:5000\n",
      "Press CTRL+C to quit\n",
      " * Restarting with stat\n"
     ]
    },
    {
     "ename": "SystemExit",
     "evalue": "1",
     "output_type": "error",
     "traceback": [
      "An exception has occurred, use %tb to see the full traceback.\n",
      "\u001b[1;31mSystemExit\u001b[0m\u001b[1;31m:\u001b[0m 1\n"
     ]
    },
    {
     "name": "stderr",
     "output_type": "stream",
     "text": [
      "C:\\Users\\zahra\\AppData\\Roaming\\Python\\Python312\\site-packages\\IPython\\core\\interactiveshell.py:3585: UserWarning: To exit: use 'exit', 'quit', or Ctrl-D.\n",
      "  warn(\"To exit: use 'exit', 'quit', or Ctrl-D.\", stacklevel=1)\n"
     ]
    }
   ],
   "source": [
    "from flask import Flask, request, jsonify\n",
    "import pandas as pd\n",
    "from sklearn.metrics.pairwise import cosine_similarity\n",
    "from scipy.sparse import csr_matrix\n",
    "import requests  # External API\n",
    "import os  # For accessing environment variables securely\n",
    "\n",
    "# Load data and prepare user-item matrix\n",
    "ratings = pd.read_csv(\"C:\\\\Users\\\\zahra\\\\Downloads\\\\Telegram Desktop\\\\ratings.csv\")\n",
    "movies = pd.read_csv(\"C:\\\\Users\\\\zahra\\\\Downloads\\\\Telegram Desktop\\\\movies.csv\")\n",
    "merged_data = pd.merge (ratings, movies, on = 'movieId', how='inner')\n",
    "\n",
    "# Convert user-item matrix to a sparse matrix format\n",
    "user_item_matrix = merged_data.pivot_table(index='userId', columns='title', values='rating').fillna(0)\n",
    "user_item_matrix_sparse = csr_matrix(user_item_matrix.values)\n",
    "\n",
    "# Compute user similarity\n",
    "user_similarity = cosine_similarity(user_item_matrix_sparse)\n",
    "user_similarity_df = pd.DataFrame(user_similarity, index=user_item_matrix.index, columns=user_item_matrix.index)\n",
    "\n",
    "# Flask application\n",
    "app = Flask(__name__)\n",
    "\n",
    "# Movie Recommendation Function (based on collaborative filtering)\n",
    "def recommend_movies(user_id, user_item_matrix, user_similarity_df, num_recommendations=5, top_n_similar_users=100):\n",
    "    similar_users = user_similarity_df[user_id].sort_values(ascending=False).head(top_n_similar_users).index\n",
    "    similar_user_ratings = user_item_matrix.loc[similar_users]\n",
    "    weighted_ratings = similar_user_ratings.mean().sort_values(ascending=False)\n",
    "    already_rated = user_item_matrix.loc[user_id]\n",
    "    recommendations = weighted_ratings[~already_rated.index.isin(already_rated[already_rated > 0].index)]\n",
    "    recommendations_df = pd.DataFrame(recommendations).reset_index()\n",
    "    recommendations_df.columns = ['Movie Title', 'Predicted Rating']\n",
    "    return recommendations_df.head(num_recommendations)\n",
    "\n",
    "# TMDb API function to get additional recommendations\n",
    "def external_api_recommendations(movie_title, api_key):\n",
    "    try:\n",
    "        url = f\"https://api.themoviedb.org/3/search/movie?api_key={api_key}&query={movie_title}\"\n",
    "        response = requests.get(url)\n",
    "        response_data = response.json()\n",
    "        \n",
    "        # Get the movie's id for further recommendations\n",
    "        if response_data['results']:\n",
    "            movie_id = response_data['results'][0]['id']\n",
    "            recommendation_url = f\"https://api.themoviedb.org/3/movie/{movie_id}/recommendations?api_key={api_key}\"\n",
    "            recommendations_response = requests.get(recommendation_url)\n",
    "            recommendations_data = recommendations_response.json()\n",
    "            return [movie['title'] for movie in recommendations_data['results'][:5]]  # Return top 5 recommendations\n",
    "        else:\n",
    "            return []\n",
    "    except Exception as e:\n",
    "        print(f\"Error fetching recommendations: {e}\")\n",
    "        return []\n",
    "\n",
    "# API route to get recommendations\n",
    "@app.route('/recommend', methods=['GET'])\n",
    "def recommend():\n",
    "    user_id = int(request.args.get('user_id'))\n",
    "    num_recommendations = int(request.args.get('num_recommendations', 5))\n",
    "    \n",
    "    # Call the recommendation function (collaborative filtering)\n",
    "    internal_recommendations = recommend_movies(user_id=user_id, user_item_matrix=user_item_matrix, user_similarity_df=user_similarity_df, num_recommendations=num_recommendations)\n",
    "    \n",
    "    # Use an external API (e.g., TMDb) for more recommendations based on the top movie\n",
    "    top_movie = internal_recommendations.iloc[0]['Movie Title']\n",
    "    tmdb_api_key = os.getenv(\"TMDB_API_KEY\")  # Make sure to set your API key as an environment variable\n",
    "    external_recommendations = external_api_recommendations(top_movie, tmdb_api_key)\n",
    "    \n",
    "    # Combine both sets of recommendations into one response\n",
    "    combined_recommendations = {\n",
    "        'internal_recommendations': internal_recommendations.to_dict(orient='records'),\n",
    "        'external_recommendations': external_recommendations\n",
    "    }\n",
    "    \n",
    "    # Return the recommendations as a JSON response\n",
    "    return jsonify(combined_recommendations)\n",
    "\n",
    "# Run the Flask app\n",
    "if __name__ == '__main__':\n",
    "    app.run(debug=True)\n"
   ]
  }
 ],
 "metadata": {
  "kernelspec": {
   "display_name": "Python 3",
   "language": "python",
   "name": "python3"
  },
  "language_info": {
   "codemirror_mode": {
    "name": "ipython",
    "version": 3
   },
   "file_extension": ".py",
   "mimetype": "text/x-python",
   "name": "python",
   "nbconvert_exporter": "python",
   "pygments_lexer": "ipython3",
   "version": "3.12.4"
  }
 },
 "nbformat": 4,
 "nbformat_minor": 2
}
